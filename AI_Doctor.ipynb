{
 "cells": [
  {
   "cell_type": "code",
   "execution_count": null,
   "id": "7be60350",
   "metadata": {},
   "outputs": [],
   "source": [
    "# importing Libraries\n",
    "import numpy as np\n",
    "import nltk\n",
    "import string\n",
    "import random\n",
    "from sklearn.feature_extraction.text import TfidfVectorizer\n",
    "from sklearn.metrics.pairwise import cosine_similarity\n"
   ]
  },
  {
   "cell_type": "code",
   "execution_count": null,
   "id": "546832f3",
   "metadata": {},
   "outputs": [],
   "source": [
    "# Download NLTK Resources\n",
    "nltk.download('punkt')\n",
    "nltk.download('wordnet')\n",
    "nltk.download('omw-1.4')\n"
   ]
  },
  {
   "cell_type": "code",
   "execution_count": null,
   "id": "835796b8",
   "metadata": {},
   "outputs": [],
   "source": [
    "# %% Load and preprocess data\n",
    "with open('data.txt', 'r', errors='ignore') as f:\n",
    "    raw_doc = f.read().lower()\n",
    "\n",
    "# Split dataset into blocks\n",
    "entries = raw_doc.strip().split('\\n\\n')\n",
    "\n",
    "# Extract all lines from blocks for TF-IDF matching\n",
    "sentence_token = []\n",
    "for entry in entries:\n",
    "    lines = entry.split('\\n')\n",
    "    for line in lines:\n",
    "        if line.startswith(\"symptoms:\"):\n",
    "            sentence_token.append(line.strip())\n"
   ]
  },
  {
   "cell_type": "code",
   "execution_count": null,
   "id": "8b3dcfe9",
   "metadata": {},
   "outputs": [],
   "source": [
    "#Define Text Normalization Functions\n",
    "lemmer = nltk.stem.WordNetLemmatizer()\n",
    "remove_punc_dict = dict((ord(punct), None) for punct in string.punctuation)\n",
    "\n",
    "def LemTokens(tokens):\n",
    "    return [lemmer.lemmatize(token) for token in tokens]\n",
    "\n",
    "def LemNormalize(text):\n",
    "    return LemTokens(nltk.word_tokenize(text.lower().translate(remove_punc_dict)))\n"
   ]
  },
  {
   "cell_type": "code",
   "execution_count": null,
   "id": "03c3bed2",
   "metadata": {},
   "outputs": [],
   "source": [
    "# Greeting Detection logic\n",
    "\n",
    "greet_inputs= (\"hello\", 'hi', 'whatsup', 'how are you?')\n",
    "greet_response= ('hi', 'Hey', 'Hey There!','How can I help you?')\n",
    "def greet(sentence):\n",
    "    for word in sentence.split():\n",
    "        if word.lower() in greet_inputs:\n",
    "            return random.choice(greet_response)"
   ]
  },
  {
   "cell_type": "code",
   "execution_count": null,
   "id": "ada4c9dd",
   "metadata": {},
   "outputs": [],
   "source": [
    "def response(user_response):\n",
    "    sentence_token.append(user_response)\n",
    "    tfidf = TfidfVectorizer(tokenizer=LemNormalize, stop_words='english').fit_transform(sentence_token)\n",
    "    vals = cosine_similarity(tfidf[-1], tfidf[:-1])\n",
    "    idx = vals.argsort()[0][-1]\n",
    "    sentence_token.pop()\n",
    "\n",
    "    # Find full entry containing that matched symptom line\n",
    "    matched_symptom = sentence_token[idx]\n",
    "    for entry in entries:\n",
    "        if matched_symptom in entry:\n",
    "            return entry.strip()\n",
    "\n",
    "    return \"I'm sorry, I couldn't identify your condition. Please rephrase or consult a doctor.\""
   ]
  },
  {
   "cell_type": "code",
   "execution_count": null,
   "id": "dc9a9c42",
   "metadata": {},
   "outputs": [],
   "source": [
    "print(\"AI_Doctor Bot 🤖: Hello! I'm here to help you understand your symptoms. Type 'bye' to exit.\")\n",
    "\n",
    "while True:\n",
    "    user_response = input(\"You 💬: \").lower()\n",
    "    if user_response in ['bye', 'exit', 'quit']:\n",
    "        print(\"AI_Doctor Bot 🤖: Take care! See you next time.\")\n",
    "        break\n",
    "    elif user_response in ['thank you', 'thanks', 'thankyou']:\n",
    "        print(\"AI_Doctor Bot 🤖: You're very welcome!\")\n",
    "        break\n",
    "    elif greet(user_response):\n",
    "        print(\"AI_Doctor Bot 🤖:\", greet(user_response))\n",
    "    else:\n",
    "        print(\"AI_Doctor Bot 🤖:\", response(user_response))\n"
   ]
  },
  {
   "cell_type": "code",
   "execution_count": 9,
   "id": "dbb18708",
   "metadata": {},
   "outputs": [
    {
     "name": "stdout",
     "output_type": "stream",
     "text": [
      "✅ Chatbot data saved to pickle files!\n"
     ]
    }
   ],
   "source": [
    "# %% Save chatbot components as pickle\n",
    "import pickle\n",
    "\n",
    "# Save symptom sentences\n",
    "with open(\"symptom_sentences.pkl\", \"wb\") as f:\n",
    "    pickle.dump(sentence_token, f)\n",
    "\n",
    "# Save full data entries\n",
    "with open(\"chatbot_entries.pkl\", \"wb\") as f:\n",
    "    pickle.dump(entries, f)\n",
    "\n",
    "# Optional: Save TF-IDF model (though regenerating may be better in apps)\n",
    "# tfidf = TfidfVectorizer(tokenizer=LemNormalize, stop_words='english').fit_transform(sentence_token)\n",
    "# with open(\"tfidf_model.pkl\", \"wb\") as f:\n",
    "#     pickle.dump(tfidf, f)\n",
    "\n",
    "print(\"✅ Chatbot data saved to pickle files!\")"
   ]
  },
  {
   "cell_type": "code",
   "execution_count": null,
   "id": "46244979",
   "metadata": {},
   "outputs": [],
   "source": []
  }
 ],
 "metadata": {
  "kernelspec": {
   "display_name": "base",
   "language": "python",
   "name": "python3"
  },
  "language_info": {
   "codemirror_mode": {
    "name": "ipython",
    "version": 3
   },
   "file_extension": ".py",
   "mimetype": "text/x-python",
   "name": "python",
   "nbconvert_exporter": "python",
   "pygments_lexer": "ipython3",
   "version": "3.12.7"
  }
 },
 "nbformat": 4,
 "nbformat_minor": 5
}
